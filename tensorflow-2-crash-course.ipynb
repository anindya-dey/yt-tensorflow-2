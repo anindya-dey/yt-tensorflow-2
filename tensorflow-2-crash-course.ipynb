{
 "cells": [
  {
   "cell_type": "markdown",
   "id": "9ececef5-ab66-46f4-a104-d80a9dce99b3",
   "metadata": {},
   "source": [
    "# TensorFlow 2 Crash Course"
   ]
  },
  {
   "cell_type": "markdown",
   "id": "8b772cb5-cd1f-418e-b829-3f03fe0be127",
   "metadata": {},
   "source": [
    "## What is TensorFlow?"
   ]
  },
  {
   "cell_type": "code",
   "execution_count": 1,
   "id": "ba166be6-1099-41e4-91b5-302b40d3909f",
   "metadata": {},
   "outputs": [],
   "source": [
    "import tensorflow as tf"
   ]
  },
  {
   "cell_type": "code",
   "execution_count": 2,
   "id": "f549de17-2caf-463b-a24c-d91e9edfc8a9",
   "metadata": {},
   "outputs": [
    {
     "data": {
      "text/plain": [
       "'2.16.1'"
      ]
     },
     "execution_count": 2,
     "metadata": {},
     "output_type": "execute_result"
    }
   ],
   "source": [
    "tf.__version__"
   ]
  },
  {
   "cell_type": "markdown",
   "id": "08f60129-9e54-4109-82ca-797426bb346a",
   "metadata": {},
   "source": [
    "## 1. Create a `tensor` with a value of `4`."
   ]
  },
  {
   "cell_type": "code",
   "execution_count": 10,
   "id": "1c2efdae-7f04-4415-b9eb-7c74a567b3ff",
   "metadata": {},
   "outputs": [
    {
     "name": "stdout",
     "output_type": "stream",
     "text": [
      "tf.Tensor(4, shape=(), dtype=int32)\n"
     ]
    }
   ],
   "source": [
    "x = tf.constant(4)\n",
    "print(x)"
   ]
  },
  {
   "cell_type": "code",
   "execution_count": null,
   "id": "64b6b6f1-7d20-4cbd-8da7-4779963d495e",
   "metadata": {},
   "outputs": [],
   "source": []
  },
  {
   "cell_type": "markdown",
   "id": "e76450fa-989d-4b49-9b2d-507cc0aaa18c",
   "metadata": {},
   "source": [
    "## 2. Create a `tensor` with a value of `4`, a shape of `1 x 1` and of type `float32`."
   ]
  },
  {
   "cell_type": "code",
   "execution_count": 11,
   "id": "9c5d5405-bb57-413c-bbba-2f67fc19025a",
   "metadata": {},
   "outputs": [
    {
     "name": "stdout",
     "output_type": "stream",
     "text": [
      "tf.Tensor([[4.]], shape=(1, 1), dtype=float32)\n"
     ]
    }
   ],
   "source": [
    "x = tf.constant(4, shape=(1, 1), dtype='float32')\n",
    "print(x)"
   ]
  },
  {
   "cell_type": "code",
   "execution_count": null,
   "id": "a846b529-482b-49dd-ac45-ebe1f809d3b1",
   "metadata": {},
   "outputs": [],
   "source": []
  },
  {
   "cell_type": "markdown",
   "id": "a0ac1512-d426-427f-a9c2-2a1a996e2600",
   "metadata": {},
   "source": [
    "## 3. Create a `tensor` of the shape `2 x 3` with all elements being `0`."
   ]
  },
  {
   "cell_type": "code",
   "execution_count": 13,
   "id": "3160da74-1631-45c1-985b-2a0df31c3c48",
   "metadata": {},
   "outputs": [
    {
     "name": "stdout",
     "output_type": "stream",
     "text": [
      "tf.Tensor(\n",
      "[[0. 0. 0.]\n",
      " [0. 0. 0.]], shape=(2, 3), dtype=float32)\n"
     ]
    }
   ],
   "source": [
    "x = tf.zeros((2,3))\n",
    "print(x)"
   ]
  },
  {
   "cell_type": "code",
   "execution_count": null,
   "id": "e4334aa6-b20d-469c-828a-9d4a9d3e6efa",
   "metadata": {},
   "outputs": [],
   "source": []
  },
  {
   "cell_type": "markdown",
   "id": "f70fd1d9-4b7f-467a-a980-2e755745f738",
   "metadata": {},
   "source": [
    "## 4. Create a `tensor` of the shape `4 x 5` with all elements being `1` and of type `int32`."
   ]
  },
  {
   "cell_type": "code",
   "execution_count": 15,
   "id": "dacd41ba-83f2-44d3-9f07-0f5edc7b6af6",
   "metadata": {},
   "outputs": [
    {
     "name": "stdout",
     "output_type": "stream",
     "text": [
      "tf.Tensor(\n",
      "[[1 1 1 1 1]\n",
      " [1 1 1 1 1]\n",
      " [1 1 1 1 1]\n",
      " [1 1 1 1 1]], shape=(4, 5), dtype=int32)\n"
     ]
    }
   ],
   "source": [
    "x = tf.ones((4, 5), dtype='int32')\n",
    "print(x)"
   ]
  },
  {
   "cell_type": "code",
   "execution_count": null,
   "id": "3bdb6404-d8e4-40f9-a077-16cb7d0d047d",
   "metadata": {},
   "outputs": [],
   "source": []
  },
  {
   "cell_type": "markdown",
   "id": "f39a0722-9863-4607-8064-b8f3e08230ab",
   "metadata": {},
   "source": [
    "## 5. Create a `tensor` with an identity matrix of shape `3 x 3`."
   ]
  },
  {
   "cell_type": "code",
   "execution_count": 26,
   "id": "d9608902-ad5a-4b4d-8b30-edc4722837ef",
   "metadata": {},
   "outputs": [
    {
     "name": "stdout",
     "output_type": "stream",
     "text": [
      "tf.Tensor(\n",
      "[[1. 0. 0.]\n",
      " [0. 1. 0.]\n",
      " [0. 0. 1.]], shape=(3, 3), dtype=float32)\n"
     ]
    }
   ],
   "source": [
    "x = tf.eye(3)\n",
    "print(x)"
   ]
  },
  {
   "cell_type": "code",
   "execution_count": null,
   "id": "66c2e398-d693-427e-b483-d61e5df1a61c",
   "metadata": {},
   "outputs": [],
   "source": []
  },
  {
   "cell_type": "markdown",
   "id": "493b4685-b616-4aa7-a804-212667a16992",
   "metadata": {},
   "source": [
    "## 7. Create a `tensor` from normal distribution with mean 0 and standard deviation 2, and with a shape `2 x 3`."
   ]
  },
  {
   "cell_type": "code",
   "execution_count": 33,
   "id": "4710642b-2ef1-46cb-857c-c1968df97b7e",
   "metadata": {},
   "outputs": [
    {
     "name": "stdout",
     "output_type": "stream",
     "text": [
      "tf.Tensor(\n",
      "[[-3.9282312 -1.6649559  1.8724036]\n",
      " [ 2.405164   1.4091673 -1.1579672]], shape=(2, 3), dtype=float32)\n"
     ]
    }
   ],
   "source": [
    "x = tf.random.normal(shape=(2, 3), mean=0, stddev=2)\n",
    "print(x)"
   ]
  },
  {
   "cell_type": "code",
   "execution_count": null,
   "id": "04d2cdf8-73ad-4f03-af8b-aa8ecf4da697",
   "metadata": {},
   "outputs": [],
   "source": []
  },
  {
   "cell_type": "markdown",
   "id": "028aea29-913d-4fa6-9796-4d8ebd008704",
   "metadata": {},
   "source": [
    "## 8. Create a `tensor` using uniform distribution with minimum value of 1 and maximum value of 2, and with a shape `2 x 2`."
   ]
  },
  {
   "cell_type": "code",
   "execution_count": 34,
   "id": "2379e853-b2be-47d2-9df0-5792f58f96a5",
   "metadata": {},
   "outputs": [
    {
     "name": "stdout",
     "output_type": "stream",
     "text": [
      "tf.Tensor(\n",
      "[[1.6551262 1.1092666]\n",
      " [1.7352537 1.5910536]], shape=(2, 2), dtype=float32)\n"
     ]
    }
   ],
   "source": [
    "x = tf.random.uniform(shape=(2, 2), minval=1, maxval=2)\n",
    "print(x)"
   ]
  },
  {
   "cell_type": "code",
   "execution_count": null,
   "id": "f1630530-0d7e-4040-a73c-ec151289f032",
   "metadata": {},
   "outputs": [],
   "source": []
  },
  {
   "cell_type": "markdown",
   "id": "37cd01c6-c816-4045-b15b-43e5f0ff927e",
   "metadata": {},
   "source": [
    "## 9. Create a `tensor` of series of integers from 0 through 9 (both inclusive)."
   ]
  },
  {
   "cell_type": "code",
   "execution_count": 44,
   "id": "81bf32fc-23b5-48fc-84f0-d6c2797197a3",
   "metadata": {},
   "outputs": [
    {
     "name": "stdout",
     "output_type": "stream",
     "text": [
      "tf.Tensor([0 1 2 3 4 5 6 7 8 9], shape=(10,), dtype=int32)\n"
     ]
    }
   ],
   "source": [
    "x = tf.range(10)\n",
    "print(x)"
   ]
  },
  {
   "cell_type": "code",
   "execution_count": null,
   "id": "449ac8db-3c09-4c74-a2f3-3d82a14dcfd7",
   "metadata": {},
   "outputs": [],
   "source": []
  },
  {
   "cell_type": "markdown",
   "id": "c4b4dfaf-a5d6-4ce2-8647-4cc8177452f3",
   "metadata": {},
   "source": [
    "## 10. Create a `tensor` of series of integers from 0 through 9 with a step of 2."
   ]
  },
  {
   "cell_type": "code",
   "execution_count": 46,
   "id": "00a22005-11d7-462f-8d67-b0a9e114c1b4",
   "metadata": {},
   "outputs": [
    {
     "name": "stdout",
     "output_type": "stream",
     "text": [
      "tf.Tensor([0 2 4 6 8], shape=(5,), dtype=int32)\n"
     ]
    }
   ],
   "source": [
    "x = tf.range(start=0, limit=10, delta=2)\n",
    "print(x)"
   ]
  },
  {
   "cell_type": "code",
   "execution_count": null,
   "id": "1f9a808c-ad26-4d6f-bdd8-9f25a7fde010",
   "metadata": {},
   "outputs": [],
   "source": []
  }
 ],
 "metadata": {
  "kernelspec": {
   "display_name": "Python 3 (ipykernel)",
   "language": "python",
   "name": "python3"
  },
  "language_info": {
   "codemirror_mode": {
    "name": "ipython",
    "version": 3
   },
   "file_extension": ".py",
   "mimetype": "text/x-python",
   "name": "python",
   "nbconvert_exporter": "python",
   "pygments_lexer": "ipython3",
   "version": "3.12.3"
  }
 },
 "nbformat": 4,
 "nbformat_minor": 5
}
