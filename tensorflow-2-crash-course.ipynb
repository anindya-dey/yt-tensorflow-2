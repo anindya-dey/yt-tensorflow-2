{
 "cells": [
  {
   "cell_type": "markdown",
   "id": "9ececef5-ab66-46f4-a104-d80a9dce99b3",
   "metadata": {},
   "source": [
    "# TensorFlow 2 Crash Course"
   ]
  },
  {
   "cell_type": "markdown",
   "id": "8b772cb5-cd1f-418e-b829-3f03fe0be127",
   "metadata": {},
   "source": [
    "## What is TensorFlow?"
   ]
  },
  {
   "cell_type": "code",
   "execution_count": 1,
   "id": "ba166be6-1099-41e4-91b5-302b40d3909f",
   "metadata": {},
   "outputs": [],
   "source": [
    "import tensorflow as tf"
   ]
  },
  {
   "cell_type": "code",
   "execution_count": 2,
   "id": "f549de17-2caf-463b-a24c-d91e9edfc8a9",
   "metadata": {},
   "outputs": [
    {
     "data": {
      "text/plain": [
       "'2.16.1'"
      ]
     },
     "execution_count": 2,
     "metadata": {},
     "output_type": "execute_result"
    }
   ],
   "source": [
    "tf.__version__"
   ]
  },
  {
   "cell_type": "markdown",
   "id": "08f60129-9e54-4109-82ca-797426bb346a",
   "metadata": {},
   "source": [
    "## 1. Create a `tensorflow` constant with a value of `4`. Keep other properties as default."
   ]
  },
  {
   "cell_type": "code",
   "execution_count": 10,
   "id": "1c2efdae-7f04-4415-b9eb-7c74a567b3ff",
   "metadata": {},
   "outputs": [
    {
     "name": "stdout",
     "output_type": "stream",
     "text": [
      "tf.Tensor(4, shape=(), dtype=int32)\n"
     ]
    }
   ],
   "source": [
    "x = tf.constant(4)\n",
    "print(x)"
   ]
  },
  {
   "cell_type": "markdown",
   "id": "e76450fa-989d-4b49-9b2d-507cc0aaa18c",
   "metadata": {},
   "source": [
    "## 2. Create a `tensorflow` constant with a value of `4`, a shape of `1 x 1` and of type `float32`."
   ]
  },
  {
   "cell_type": "code",
   "execution_count": 11,
   "id": "9c5d5405-bb57-413c-bbba-2f67fc19025a",
   "metadata": {},
   "outputs": [
    {
     "name": "stdout",
     "output_type": "stream",
     "text": [
      "tf.Tensor([[4.]], shape=(1, 1), dtype=float32)\n"
     ]
    }
   ],
   "source": [
    "x = tf.constant(4, shape=(1, 1), dtype='float32')\n",
    "print(x)"
   ]
  },
  {
   "cell_type": "markdown",
   "id": "a0ac1512-d426-427f-a9c2-2a1a996e2600",
   "metadata": {},
   "source": [
    "## 3. Create a `tensorflow` constant of shape of `2 x 3` with all elements being `0`."
   ]
  },
  {
   "cell_type": "code",
   "execution_count": 13,
   "id": "3160da74-1631-45c1-985b-2a0df31c3c48",
   "metadata": {},
   "outputs": [
    {
     "name": "stdout",
     "output_type": "stream",
     "text": [
      "tf.Tensor(\n",
      "[[0. 0. 0.]\n",
      " [0. 0. 0.]], shape=(2, 3), dtype=float32)\n"
     ]
    }
   ],
   "source": [
    "x = tf.zeros((2,3))\n",
    "print(x)"
   ]
  },
  {
   "cell_type": "markdown",
   "id": "f70fd1d9-4b7f-467a-a980-2e755745f738",
   "metadata": {},
   "source": [
    "## 4. Create a `tensorflow` constant of shape of `4 x 5` with all elements being `1` and of type `int32`."
   ]
  },
  {
   "cell_type": "code",
   "execution_count": 15,
   "id": "dacd41ba-83f2-44d3-9f07-0f5edc7b6af6",
   "metadata": {},
   "outputs": [
    {
     "name": "stdout",
     "output_type": "stream",
     "text": [
      "tf.Tensor(\n",
      "[[1 1 1 1 1]\n",
      " [1 1 1 1 1]\n",
      " [1 1 1 1 1]\n",
      " [1 1 1 1 1]], shape=(4, 5), dtype=int32)\n"
     ]
    }
   ],
   "source": [
    "x = tf.ones((4, 5), dtype='int32')\n",
    "print(x)"
   ]
  },
  {
   "cell_type": "code",
   "execution_count": 23,
   "id": "d9608902-ad5a-4b4d-8b30-edc4722837ef",
   "metadata": {},
   "outputs": [
    {
     "name": "stdout",
     "output_type": "stream",
     "text": [
      "tf.Tensor(\n",
      "[[[[1. 0.]\n",
      "   [0. 1.]]\n",
      "\n",
      "  [[1. 0.]\n",
      "   [0. 1.]]]\n",
      "\n",
      "\n",
      " [[[1. 0.]\n",
      "   [0. 1.]]\n",
      "\n",
      "  [[1. 0.]\n",
      "   [0. 1.]]]], shape=(2, 2, 2, 2), dtype=float32)\n"
     ]
    }
   ],
   "source": [
    "x = tf.eye(2, batch_shape=[2, 2])\n",
    "print(x)"
   ]
  },
  {
   "cell_type": "code",
   "execution_count": 25,
   "id": "101dab1f-bcce-49d5-b128-80d3ff06979b",
   "metadata": {},
   "outputs": [
    {
     "data": {
      "text/plain": [
       "'2.16.1'"
      ]
     },
     "execution_count": 25,
     "metadata": {},
     "output_type": "execute_result"
    }
   ],
   "source": [
    "tf.__version__"
   ]
  },
  {
   "cell_type": "code",
   "execution_count": null,
   "id": "4e3e5eb2-4a9c-481f-93b7-6ea04e9c84f0",
   "metadata": {},
   "outputs": [],
   "source": []
  }
 ],
 "metadata": {
  "kernelspec": {
   "display_name": "Python 3 (ipykernel)",
   "language": "python",
   "name": "python3"
  },
  "language_info": {
   "codemirror_mode": {
    "name": "ipython",
    "version": 3
   },
   "file_extension": ".py",
   "mimetype": "text/x-python",
   "name": "python",
   "nbconvert_exporter": "python",
   "pygments_lexer": "ipython3",
   "version": "3.12.3"
  }
 },
 "nbformat": 4,
 "nbformat_minor": 5
}
