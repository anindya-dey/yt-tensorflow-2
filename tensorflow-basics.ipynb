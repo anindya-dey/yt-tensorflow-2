{
 "cells": [
  {
   "cell_type": "markdown",
   "id": "9ececef5-ab66-46f4-a104-d80a9dce99b3",
   "metadata": {},
   "source": [
    "# TensorFlow 2 - Basics"
   ]
  },
  {
   "cell_type": "code",
   "execution_count": 54,
   "id": "ba166be6-1099-41e4-91b5-302b40d3909f",
   "metadata": {},
   "outputs": [
    {
     "name": "stdout",
     "output_type": "stream",
     "text": [
      "TensorFlow version: 2.17.0\n",
      "[PhysicalDevice(name='/physical_device:GPU:0', device_type='GPU')]\n"
     ]
    }
   ],
   "source": [
    "import tensorflow as tf\n",
    "\n",
    "print(f\"TensorFlow version: {tf.__version__}\")\n",
    "\n",
    "gpus = tf.config.list_physical_devices('GPU')\n",
    "print(gpus)"
   ]
  },
  {
   "cell_type": "markdown",
   "id": "2ac77a85",
   "metadata": {},
   "source": [
    "---"
   ]
  },
  {
   "cell_type": "markdown",
   "id": "08f60129-9e54-4109-82ca-797426bb346a",
   "metadata": {},
   "source": [
    "### 1. Create a `tensor` with a value of `4`."
   ]
  },
  {
   "cell_type": "code",
   "execution_count": 55,
   "id": "1c2efdae-7f04-4415-b9eb-7c74a567b3ff",
   "metadata": {},
   "outputs": [
    {
     "name": "stdout",
     "output_type": "stream",
     "text": [
      "tf.Tensor(4, shape=(), dtype=int32)\n"
     ]
    }
   ],
   "source": [
    "x = tf.constant(4)\n",
    "print(x)"
   ]
  },
  {
   "cell_type": "markdown",
   "id": "0ff26e47",
   "metadata": {},
   "source": [
    "---"
   ]
  },
  {
   "cell_type": "markdown",
   "id": "e76450fa-989d-4b49-9b2d-507cc0aaa18c",
   "metadata": {},
   "source": [
    "### 2. Create a `tensor` with a value of `4`, a shape of `1 x 1` and of type `float32`."
   ]
  },
  {
   "cell_type": "code",
   "execution_count": 56,
   "id": "9c5d5405-bb57-413c-bbba-2f67fc19025a",
   "metadata": {},
   "outputs": [
    {
     "name": "stdout",
     "output_type": "stream",
     "text": [
      "tf.Tensor([[4.]], shape=(1, 1), dtype=float32)\n"
     ]
    }
   ],
   "source": [
    "x = tf.constant(4, shape=(1, 1), dtype='float32')\n",
    "print(x)"
   ]
  },
  {
   "cell_type": "markdown",
   "id": "aad74741",
   "metadata": {},
   "source": [
    "---"
   ]
  },
  {
   "cell_type": "markdown",
   "id": "a0ac1512-d426-427f-a9c2-2a1a996e2600",
   "metadata": {},
   "source": [
    "### 3. Create a `tensor` of the shape `2 x 3` with all elements being `0`."
   ]
  },
  {
   "cell_type": "code",
   "execution_count": 57,
   "id": "3160da74-1631-45c1-985b-2a0df31c3c48",
   "metadata": {},
   "outputs": [
    {
     "name": "stdout",
     "output_type": "stream",
     "text": [
      "tf.Tensor(\n",
      "[[0. 0. 0.]\n",
      " [0. 0. 0.]], shape=(2, 3), dtype=float32)\n"
     ]
    }
   ],
   "source": [
    "x = tf.zeros((2,3))\n",
    "print(x)"
   ]
  },
  {
   "cell_type": "markdown",
   "id": "eab5bf5e",
   "metadata": {},
   "source": [
    "---"
   ]
  },
  {
   "cell_type": "markdown",
   "id": "f70fd1d9-4b7f-467a-a980-2e755745f738",
   "metadata": {},
   "source": [
    "### 4. Create a `tensor` of the shape `4 x 5` with all elements being `1` and of type `int32`."
   ]
  },
  {
   "cell_type": "code",
   "execution_count": 58,
   "id": "dacd41ba-83f2-44d3-9f07-0f5edc7b6af6",
   "metadata": {},
   "outputs": [
    {
     "name": "stdout",
     "output_type": "stream",
     "text": [
      "tf.Tensor(\n",
      "[[1 1 1 1 1]\n",
      " [1 1 1 1 1]\n",
      " [1 1 1 1 1]\n",
      " [1 1 1 1 1]], shape=(4, 5), dtype=int32)\n"
     ]
    }
   ],
   "source": [
    "x = tf.ones((4, 5), dtype='int32')\n",
    "print(x)"
   ]
  },
  {
   "cell_type": "markdown",
   "id": "2b7af6b7",
   "metadata": {},
   "source": [
    "---"
   ]
  },
  {
   "cell_type": "markdown",
   "id": "f39a0722-9863-4607-8064-b8f3e08230ab",
   "metadata": {},
   "source": [
    "### 5. Create a `tensor` with an identity matrix of shape `3 x 3`."
   ]
  },
  {
   "cell_type": "code",
   "execution_count": 59,
   "id": "d9608902-ad5a-4b4d-8b30-edc4722837ef",
   "metadata": {},
   "outputs": [
    {
     "name": "stdout",
     "output_type": "stream",
     "text": [
      "tf.Tensor(\n",
      "[[1. 0. 0.]\n",
      " [0. 1. 0.]\n",
      " [0. 0. 1.]], shape=(3, 3), dtype=float32)\n"
     ]
    }
   ],
   "source": [
    "x = tf.eye(3)\n",
    "print(x)"
   ]
  },
  {
   "cell_type": "markdown",
   "id": "f13f8b31",
   "metadata": {},
   "source": [
    "---"
   ]
  },
  {
   "cell_type": "markdown",
   "id": "493b4685-b616-4aa7-a804-212667a16992",
   "metadata": {},
   "source": [
    "### 7. Create a `tensor` from normal distribution with mean 0 and standard deviation 2, and with a shape `2 x 3`."
   ]
  },
  {
   "cell_type": "code",
   "execution_count": 60,
   "id": "4710642b-2ef1-46cb-857c-c1968df97b7e",
   "metadata": {},
   "outputs": [
    {
     "name": "stdout",
     "output_type": "stream",
     "text": [
      "tf.Tensor(\n",
      "[[ 2.330355   -1.4780736  -0.73033744]\n",
      " [-0.5609873  -0.33256018 -2.8336856 ]], shape=(2, 3), dtype=float32)\n"
     ]
    }
   ],
   "source": [
    "x = tf.random.normal(shape=(2, 3), mean=0, stddev=2)\n",
    "print(x)"
   ]
  },
  {
   "cell_type": "markdown",
   "id": "381fd6b7",
   "metadata": {},
   "source": [
    "---"
   ]
  },
  {
   "cell_type": "markdown",
   "id": "028aea29-913d-4fa6-9796-4d8ebd008704",
   "metadata": {},
   "source": [
    "### 8. Create a `tensor` using uniform distribution with minimum value of 1 and maximum value of 2, and with a shape `2 x 2`."
   ]
  },
  {
   "cell_type": "code",
   "execution_count": 61,
   "id": "2379e853-b2be-47d2-9df0-5792f58f96a5",
   "metadata": {},
   "outputs": [
    {
     "name": "stdout",
     "output_type": "stream",
     "text": [
      "tf.Tensor(\n",
      "[[1.329876  1.2366012]\n",
      " [1.2304696 1.323716 ]], shape=(2, 2), dtype=float32)\n"
     ]
    }
   ],
   "source": [
    "x = tf.random.uniform(shape=(2, 2), minval=1, maxval=2)\n",
    "print(x)"
   ]
  },
  {
   "cell_type": "markdown",
   "id": "ece42aa6",
   "metadata": {},
   "source": [
    "---"
   ]
  },
  {
   "cell_type": "markdown",
   "id": "37cd01c6-c816-4045-b15b-43e5f0ff927e",
   "metadata": {},
   "source": [
    "### 9. Create a `tensor` of series of integers from 0 through 9 (both inclusive)."
   ]
  },
  {
   "cell_type": "code",
   "execution_count": 62,
   "id": "81bf32fc-23b5-48fc-84f0-d6c2797197a3",
   "metadata": {},
   "outputs": [
    {
     "name": "stdout",
     "output_type": "stream",
     "text": [
      "tf.Tensor([0 1 2 3 4 5 6 7 8 9], shape=(10,), dtype=int32)\n"
     ]
    }
   ],
   "source": [
    "x = tf.range(10)\n",
    "print(x)"
   ]
  },
  {
   "cell_type": "markdown",
   "id": "1178d9b2",
   "metadata": {},
   "source": [
    "---"
   ]
  },
  {
   "cell_type": "markdown",
   "id": "c4b4dfaf-a5d6-4ce2-8647-4cc8177452f3",
   "metadata": {},
   "source": [
    "### 10. Create a `tensor` of series of integers from 0 through 9 with a step of 2."
   ]
  },
  {
   "cell_type": "code",
   "execution_count": 63,
   "id": "00a22005-11d7-462f-8d67-b0a9e114c1b4",
   "metadata": {},
   "outputs": [
    {
     "name": "stdout",
     "output_type": "stream",
     "text": [
      "tf.Tensor([0 2 4 6 8], shape=(5,), dtype=int32)\n"
     ]
    }
   ],
   "source": [
    "x = tf.range(start=0, limit=10, delta=2)\n",
    "print(x)"
   ]
  },
  {
   "cell_type": "markdown",
   "id": "596e7f49",
   "metadata": {},
   "source": [
    "---"
   ]
  },
  {
   "cell_type": "markdown",
   "id": "571e6426-5976-4e62-ae51-bf3df261df73",
   "metadata": {},
   "source": [
    "### 11. Convert the above `tensor` from `int32` to `float32`."
   ]
  },
  {
   "cell_type": "code",
   "execution_count": 64,
   "id": "1ce8ca0f-4815-425a-903b-5f755e646219",
   "metadata": {},
   "outputs": [
    {
     "name": "stdout",
     "output_type": "stream",
     "text": [
      "tf.Tensor([0. 2. 4. 6. 8.], shape=(5,), dtype=float32)\n"
     ]
    }
   ],
   "source": [
    "x = tf.cast(x, dtype='float32')\n",
    "print(x)"
   ]
  },
  {
   "cell_type": "markdown",
   "id": "8c5522fd",
   "metadata": {},
   "source": [
    "---"
   ]
  },
  {
   "cell_type": "markdown",
   "id": "09f7c6fc-cb2a-4408-8522-f525e6e17e30",
   "metadata": {},
   "source": [
    "### 12. Perform element-wise addition on `[1, 2, 3]` and `[9, 8, 7]` and print the result."
   ]
  },
  {
   "cell_type": "code",
   "execution_count": 65,
   "id": "ef95cd88-ae10-4c10-8b56-ed530babe577",
   "metadata": {},
   "outputs": [
    {
     "name": "stdout",
     "output_type": "stream",
     "text": [
      "tf.Tensor([10 10 10], shape=(3,), dtype=int32)\n"
     ]
    }
   ],
   "source": [
    "x = tf.constant([1, 2, 3])\n",
    "y = tf.constant([9, 8, 7])\n",
    "z = x + y # short-hand for tf.add(x, y)\n",
    "print(z)"
   ]
  },
  {
   "cell_type": "markdown",
   "id": "71141bf6",
   "metadata": {},
   "source": [
    "---"
   ]
  },
  {
   "cell_type": "markdown",
   "id": "6612c25d-c2e2-4b0c-a686-9b65432bd24e",
   "metadata": {},
   "source": [
    "### 13. Perform element-wise subtraction on `[1, 2, 3]` and `[9, 8, 7]` and print the result."
   ]
  },
  {
   "cell_type": "code",
   "execution_count": 66,
   "id": "75ca4669-f1fc-4b53-9589-20c2e4c9d280",
   "metadata": {},
   "outputs": [
    {
     "name": "stdout",
     "output_type": "stream",
     "text": [
      "tf.Tensor([-8 -6 -4], shape=(3,), dtype=int32)\n"
     ]
    }
   ],
   "source": [
    "x = tf.constant([1, 2, 3])\n",
    "y = tf.constant([9, 8, 7])\n",
    "z = x - y # short-hand for tf.subtract(x, y)\n",
    "print(z)"
   ]
  },
  {
   "cell_type": "markdown",
   "id": "c52ab388",
   "metadata": {},
   "source": [
    "---"
   ]
  },
  {
   "cell_type": "markdown",
   "id": "0c57f744-1958-46a9-a763-d8e9dab50984",
   "metadata": {},
   "source": [
    "### 14. Perform element-wise multiplication on `[1, 2, 3]` and `[11, 22, 33]` and print the result."
   ]
  },
  {
   "cell_type": "code",
   "execution_count": 67,
   "id": "4124ac89-c61f-4cc1-8973-a25746c38a6e",
   "metadata": {},
   "outputs": [
    {
     "name": "stdout",
     "output_type": "stream",
     "text": [
      "tf.Tensor([11 44 99], shape=(3,), dtype=int32)\n"
     ]
    }
   ],
   "source": [
    "x = tf.constant([1, 2, 3])\n",
    "y = tf.constant([11, 22, 33])\n",
    "z = x * y # short-hand for tf.multiply(x, y)\n",
    "print(z)"
   ]
  },
  {
   "cell_type": "markdown",
   "id": "687ce897",
   "metadata": {},
   "source": [
    "---"
   ]
  },
  {
   "cell_type": "markdown",
   "id": "cbd599a8-175d-4a32-93a4-5800736edbe9",
   "metadata": {},
   "source": [
    "### 15. Perform element-wise division on `[10, 20, 30]` and `[1, 2, 3]` and print the result."
   ]
  },
  {
   "cell_type": "code",
   "execution_count": 68,
   "id": "6c7eed6e-6ebd-4428-b459-ee1ded526b69",
   "metadata": {},
   "outputs": [
    {
     "name": "stdout",
     "output_type": "stream",
     "text": [
      "tf.Tensor([10. 10. 10.], shape=(3,), dtype=float64)\n"
     ]
    }
   ],
   "source": [
    "x = tf.constant([10, 20, 30])\n",
    "y = tf.constant([1, 2, 3])\n",
    "z = x / y # short-hand for tf.divide(x, y)\n",
    "print(z)"
   ]
  },
  {
   "cell_type": "markdown",
   "id": "35960ff2",
   "metadata": {},
   "source": [
    "---"
   ]
  },
  {
   "cell_type": "markdown",
   "id": "5c1dfac2-3bcc-45e1-9186-f198900f40b8",
   "metadata": {},
   "source": [
    "### 16. Perform dot-product on `[1, 2, 3]` and `[4, 5, 6]` and print the result."
   ]
  },
  {
   "cell_type": "code",
   "execution_count": 69,
   "id": "349a733a-a4fb-4f04-b53f-c20646f2f89a",
   "metadata": {},
   "outputs": [
    {
     "name": "stdout",
     "output_type": "stream",
     "text": [
      "tf.Tensor(32, shape=(), dtype=int32)\n"
     ]
    }
   ],
   "source": [
    "x = tf.constant([1, 2, 3])\n",
    "y = tf.constant([4, 5, 6])\n",
    "z = tf.tensordot(x, y, axes=1)\n",
    "print(z)"
   ]
  },
  {
   "cell_type": "markdown",
   "id": "6274421f",
   "metadata": {},
   "source": [
    "---"
   ]
  },
  {
   "cell_type": "markdown",
   "id": "66eaacff-82b9-4ac8-95e2-0d6017de92ef",
   "metadata": {},
   "source": [
    "### 17. Create a `2 x 2 tensor` and raise each element to the power of 3."
   ]
  },
  {
   "cell_type": "code",
   "execution_count": 70,
   "id": "05ca09ed-ddd8-4a27-81a2-8dd8239bc30e",
   "metadata": {},
   "outputs": [
    {
     "name": "stdout",
     "output_type": "stream",
     "text": [
      "tf.Tensor(\n",
      "[[ 1  8]\n",
      " [27 64]], shape=(2, 2), dtype=int32)\n"
     ]
    }
   ],
   "source": [
    "x = tf.constant([[1, 2], [3, 4]])\n",
    "z = x ** 3  # equivalent to tf.pow(x, 3)\n",
    "print(z)"
   ]
  },
  {
   "cell_type": "markdown",
   "id": "82c1e6b5",
   "metadata": {},
   "source": [
    "---"
   ]
  },
  {
   "cell_type": "markdown",
   "id": "f92a52f4-241f-4f25-bfba-e7b100a5fdd4",
   "metadata": {},
   "source": [
    "### 18. Raise one `2 x 2 tensor` to the power of another `2 x 2 tensor` (element-wise)."
   ]
  },
  {
   "cell_type": "code",
   "execution_count": 71,
   "id": "296121e2-0e7b-4769-ac39-621852caaac0",
   "metadata": {},
   "outputs": [
    {
     "name": "stdout",
     "output_type": "stream",
     "text": [
      "tf.Tensor(\n",
      "[[ 1  8]\n",
      " [ 9 64]], shape=(2, 2), dtype=int32)\n"
     ]
    }
   ],
   "source": [
    "x = tf.constant([[1, 2], [3, 4]])\n",
    "y = tf.constant([[2, 3], [2, 3]])\n",
    "z = tf.pow(x, y)\n",
    "print(z)"
   ]
  },
  {
   "cell_type": "markdown",
   "id": "1d4f1b66",
   "metadata": {},
   "source": [
    "---"
   ]
  },
  {
   "cell_type": "markdown",
   "id": "b8d10cfa-84df-4679-8bfd-d4ca74ccc872",
   "metadata": {},
   "source": [
    "### 19. Perform a matrix multiplication between a `2 x 3 tensor` and `3 x 2 tensor`."
   ]
  },
  {
   "cell_type": "code",
   "execution_count": 72,
   "id": "025e751d-8f38-4519-b535-cd6c18fda350",
   "metadata": {},
   "outputs": [
    {
     "name": "stdout",
     "output_type": "stream",
     "text": [
      "tf.Tensor(\n",
      "[[1 2 3]\n",
      " [4 5 6]], shape=(2, 3), dtype=int32)\n",
      "tf.Tensor(\n",
      "[[1 2]\n",
      " [3 4]\n",
      " [5 6]], shape=(3, 2), dtype=int32)\n",
      "tf.Tensor(\n",
      "[[22 28]\n",
      " [49 64]], shape=(2, 2), dtype=int32)\n"
     ]
    }
   ],
   "source": [
    "x = tf.constant([[1, 2, 3], [4, 5, 6]], dtype='int32')\n",
    "y = tf.constant([[1, 2], [3, 4], [5, 6]], dtype='int32')\n",
    "\n",
    "print(x)\n",
    "print(y)\n",
    "\n",
    "z = x @ y # same as tf.matmul(x, y)\n",
    "print(z)"
   ]
  },
  {
   "cell_type": "markdown",
   "id": "425b57e2",
   "metadata": {},
   "source": [
    "---"
   ]
  },
  {
   "cell_type": "markdown",
   "id": "2f18d165",
   "metadata": {},
   "source": [
    "### 20. Select first 3 elements from a 1-D tensor with 5 elements"
   ]
  },
  {
   "cell_type": "code",
   "execution_count": 73,
   "id": "8faadc29",
   "metadata": {},
   "outputs": [
    {
     "name": "stdout",
     "output_type": "stream",
     "text": [
      "tf.Tensor([5 6 7], shape=(3,), dtype=int8)\n"
     ]
    }
   ],
   "source": [
    "x = tf.constant([5, 6, 7, 8, 9], dtype=tf.int8)\n",
    "print(x[:3])"
   ]
  },
  {
   "cell_type": "markdown",
   "id": "5573d236",
   "metadata": {},
   "source": [
    "---"
   ]
  },
  {
   "cell_type": "markdown",
   "id": "dcae4514",
   "metadata": {},
   "source": [
    "### 21. Select the first and last element from the above 1-D tensor using another tensor which has the index values"
   ]
  },
  {
   "cell_type": "code",
   "execution_count": 74,
   "id": "93fb3527",
   "metadata": {},
   "outputs": [
    {
     "name": "stdout",
     "output_type": "stream",
     "text": [
      "tf.Tensor([5 9], shape=(2,), dtype=int8)\n"
     ]
    }
   ],
   "source": [
    "x = tf.constant([5, 6, 7, 8, 9], dtype=tf.int8)\n",
    "\n",
    "indices = tf.constant([0, len(x) - 1], dtype=tf.int16)\n",
    "\n",
    "x_ind = tf.gather(x, indices)\n",
    "print(x_ind)"
   ]
  },
  {
   "cell_type": "markdown",
   "id": "78a37635",
   "metadata": {},
   "source": [
    "---"
   ]
  },
  {
   "cell_type": "markdown",
   "id": "f3c6d79e",
   "metadata": {},
   "source": [
    "### 22. Select any `2 x 2` tensor from a `3 x 4` tensor"
   ]
  },
  {
   "cell_type": "code",
   "execution_count": 75,
   "id": "c1b0e878",
   "metadata": {},
   "outputs": [
    {
     "name": "stdout",
     "output_type": "stream",
     "text": [
      "tf.Tensor(\n",
      "[[ 1  2  3  4]\n",
      " [ 5  6  7  8]\n",
      " [ 9 10 11 12]], shape=(3, 4), dtype=int8)\n",
      "tf.Tensor(\n",
      "[[1 2]\n",
      " [5 6]], shape=(2, 2), dtype=int8)\n"
     ]
    }
   ],
   "source": [
    "x = tf.constant([[1, 2, 3, 4], [5, 6, 7, 8], [9, 10, 11, 12]], dtype=tf.int8)\n",
    "print(x)\n",
    "\n",
    "x_subset = x[:2, :2]\n",
    "print(x_subset)"
   ]
  },
  {
   "cell_type": "markdown",
   "id": "1544a23e",
   "metadata": {},
   "source": [
    "---"
   ]
  },
  {
   "cell_type": "markdown",
   "id": "e566b5e0",
   "metadata": {},
   "source": [
    "### 23. Reshape a 1-D tensor with `9` elements into a 2-D tensor with `3 x 3` elements"
   ]
  },
  {
   "cell_type": "code",
   "execution_count": 76,
   "id": "2c64e121",
   "metadata": {},
   "outputs": [
    {
     "name": "stdout",
     "output_type": "stream",
     "text": [
      "tf.Tensor([1 2 3 4 5 6 7 8 9], shape=(9,), dtype=int32)\n",
      "tf.Tensor(\n",
      "[[1 2 3]\n",
      " [4 5 6]\n",
      " [7 8 9]], shape=(3, 3), dtype=int32)\n"
     ]
    }
   ],
   "source": [
    "x = tf.range(start=1, limit=10)\n",
    "print(x)\n",
    "\n",
    "x_reshaped = tf.reshape(x, shape=(3, 3))\n",
    "print(x_reshaped)"
   ]
  },
  {
   "cell_type": "markdown",
   "id": "d47eb509",
   "metadata": {},
   "source": [
    "---"
   ]
  },
  {
   "cell_type": "markdown",
   "id": "62c4bb58",
   "metadata": {},
   "source": [
    "### 24. Transpose a 2-D tensor with `4 x 5` elements"
   ]
  },
  {
   "cell_type": "code",
   "execution_count": 77,
   "id": "a657047c",
   "metadata": {},
   "outputs": [
    {
     "name": "stdout",
     "output_type": "stream",
     "text": [
      "tf.Tensor(\n",
      "[[ 1  2  3  4  5]\n",
      " [ 6  7  8  9 10]\n",
      " [11 12 13 14 15]\n",
      " [16 17 18 19 20]], shape=(4, 5), dtype=int32)\n",
      "tf.Tensor(\n",
      "[[ 1  6 11 16]\n",
      " [ 2  7 12 17]\n",
      " [ 3  8 13 18]\n",
      " [ 4  9 14 19]\n",
      " [ 5 10 15 20]], shape=(5, 4), dtype=int32)\n"
     ]
    }
   ],
   "source": [
    "x = tf.range(start=1, limit=21)\n",
    "x_reshaped = tf.reshape(x, shape=(4, 5))\n",
    "print(x_reshaped)\n",
    "\n",
    "x_transposed = tf.transpose(x_reshaped) # perm=[1, 0] => permutation of axes\n",
    "print(x_transposed)"
   ]
  },
  {
   "cell_type": "markdown",
   "id": "13a0c124",
   "metadata": {},
   "source": [
    "---"
   ]
  },
  {
   "cell_type": "code",
   "execution_count": null,
   "id": "6c6ce860",
   "metadata": {},
   "outputs": [],
   "source": []
  }
 ],
 "metadata": {
  "kernelspec": {
   "display_name": "Python 3 (ipykernel)",
   "language": "python",
   "name": "python3"
  },
  "language_info": {
   "codemirror_mode": {
    "name": "ipython",
    "version": 3
   },
   "file_extension": ".py",
   "mimetype": "text/x-python",
   "name": "python",
   "nbconvert_exporter": "python",
   "pygments_lexer": "ipython3",
   "version": "3.12.4"
  }
 },
 "nbformat": 4,
 "nbformat_minor": 5
}
