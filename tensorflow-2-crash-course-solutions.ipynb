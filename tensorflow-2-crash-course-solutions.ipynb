{
 "cells": [
  {
   "cell_type": "markdown",
   "id": "9ececef5-ab66-46f4-a104-d80a9dce99b3",
   "metadata": {},
   "source": [
    "# TensorFlow 2 Crash Course Solutions"
   ]
  },
  {
   "cell_type": "markdown",
   "id": "8b772cb5-cd1f-418e-b829-3f03fe0be127",
   "metadata": {},
   "source": [
    "## What is TensorFlow?"
   ]
  },
  {
   "cell_type": "code",
   "execution_count": 1,
   "id": "ba166be6-1099-41e4-91b5-302b40d3909f",
   "metadata": {},
   "outputs": [],
   "source": [
    "import tensorflow as tf"
   ]
  },
  {
   "cell_type": "code",
   "execution_count": 2,
   "id": "f549de17-2caf-463b-a24c-d91e9edfc8a9",
   "metadata": {},
   "outputs": [
    {
     "data": {
      "text/plain": [
       "'2.16.1'"
      ]
     },
     "execution_count": 2,
     "metadata": {},
     "output_type": "execute_result"
    }
   ],
   "source": [
    "tf.__version__"
   ]
  },
  {
   "cell_type": "code",
   "execution_count": 3,
   "id": "fa680aaa-c7ab-4f74-a37c-c11a9a5aaae9",
   "metadata": {},
   "outputs": [],
   "source": [
    "gpus = tf.config.list_physical_devices('GPU')\n",
    "if len(gpus) > 0:\n",
    "    for gpu in gpus:\n",
    "        tf.config.experimental.set_memory_growth(gpu, True)"
   ]
  },
  {
   "cell_type": "markdown",
   "id": "08f60129-9e54-4109-82ca-797426bb346a",
   "metadata": {},
   "source": [
    "## 1. Create a `tensor` with a value of `4`."
   ]
  },
  {
   "cell_type": "code",
   "execution_count": 4,
   "id": "1c2efdae-7f04-4415-b9eb-7c74a567b3ff",
   "metadata": {},
   "outputs": [
    {
     "name": "stdout",
     "output_type": "stream",
     "text": [
      "tf.Tensor(4, shape=(), dtype=int32)\n"
     ]
    }
   ],
   "source": [
    "x = tf.constant(4)\n",
    "print(x)"
   ]
  },
  {
   "cell_type": "code",
   "execution_count": null,
   "id": "64b6b6f1-7d20-4cbd-8da7-4779963d495e",
   "metadata": {},
   "outputs": [],
   "source": []
  },
  {
   "cell_type": "markdown",
   "id": "e76450fa-989d-4b49-9b2d-507cc0aaa18c",
   "metadata": {},
   "source": [
    "## 2. Create a `tensor` with a value of `4`, a shape of `1 x 1` and of type `float32`."
   ]
  },
  {
   "cell_type": "code",
   "execution_count": 5,
   "id": "9c5d5405-bb57-413c-bbba-2f67fc19025a",
   "metadata": {},
   "outputs": [
    {
     "name": "stdout",
     "output_type": "stream",
     "text": [
      "tf.Tensor([[4.]], shape=(1, 1), dtype=float32)\n"
     ]
    }
   ],
   "source": [
    "x = tf.constant(4, shape=(1, 1), dtype='float32')\n",
    "print(x)"
   ]
  },
  {
   "cell_type": "code",
   "execution_count": null,
   "id": "a846b529-482b-49dd-ac45-ebe1f809d3b1",
   "metadata": {},
   "outputs": [],
   "source": []
  },
  {
   "cell_type": "markdown",
   "id": "a0ac1512-d426-427f-a9c2-2a1a996e2600",
   "metadata": {},
   "source": [
    "## 3. Create a `tensor` of the shape `2 x 3` with all elements being `0`."
   ]
  },
  {
   "cell_type": "code",
   "execution_count": 6,
   "id": "3160da74-1631-45c1-985b-2a0df31c3c48",
   "metadata": {},
   "outputs": [
    {
     "name": "stdout",
     "output_type": "stream",
     "text": [
      "tf.Tensor(\n",
      "[[0. 0. 0.]\n",
      " [0. 0. 0.]], shape=(2, 3), dtype=float32)\n"
     ]
    }
   ],
   "source": [
    "x = tf.zeros((2,3))\n",
    "print(x)"
   ]
  },
  {
   "cell_type": "code",
   "execution_count": null,
   "id": "e4334aa6-b20d-469c-828a-9d4a9d3e6efa",
   "metadata": {},
   "outputs": [],
   "source": []
  },
  {
   "cell_type": "markdown",
   "id": "f70fd1d9-4b7f-467a-a980-2e755745f738",
   "metadata": {},
   "source": [
    "## 4. Create a `tensor` of the shape `4 x 5` with all elements being `1` and of type `int32`."
   ]
  },
  {
   "cell_type": "code",
   "execution_count": 7,
   "id": "dacd41ba-83f2-44d3-9f07-0f5edc7b6af6",
   "metadata": {},
   "outputs": [
    {
     "name": "stdout",
     "output_type": "stream",
     "text": [
      "tf.Tensor(\n",
      "[[1 1 1 1 1]\n",
      " [1 1 1 1 1]\n",
      " [1 1 1 1 1]\n",
      " [1 1 1 1 1]], shape=(4, 5), dtype=int32)\n"
     ]
    }
   ],
   "source": [
    "x = tf.ones((4, 5), dtype='int32')\n",
    "print(x)"
   ]
  },
  {
   "cell_type": "code",
   "execution_count": null,
   "id": "3bdb6404-d8e4-40f9-a077-16cb7d0d047d",
   "metadata": {},
   "outputs": [],
   "source": []
  },
  {
   "cell_type": "markdown",
   "id": "f39a0722-9863-4607-8064-b8f3e08230ab",
   "metadata": {},
   "source": [
    "## 5. Create a `tensor` with an identity matrix of shape `3 x 3`."
   ]
  },
  {
   "cell_type": "code",
   "execution_count": 8,
   "id": "d9608902-ad5a-4b4d-8b30-edc4722837ef",
   "metadata": {},
   "outputs": [
    {
     "name": "stdout",
     "output_type": "stream",
     "text": [
      "tf.Tensor(\n",
      "[[1. 0. 0.]\n",
      " [0. 1. 0.]\n",
      " [0. 0. 1.]], shape=(3, 3), dtype=float32)\n"
     ]
    }
   ],
   "source": [
    "x = tf.eye(3)\n",
    "print(x)"
   ]
  },
  {
   "cell_type": "code",
   "execution_count": null,
   "id": "66c2e398-d693-427e-b483-d61e5df1a61c",
   "metadata": {},
   "outputs": [],
   "source": []
  },
  {
   "cell_type": "markdown",
   "id": "493b4685-b616-4aa7-a804-212667a16992",
   "metadata": {},
   "source": [
    "## 7. Create a `tensor` from normal distribution with mean 0 and standard deviation 2, and with a shape `2 x 3`."
   ]
  },
  {
   "cell_type": "code",
   "execution_count": 9,
   "id": "4710642b-2ef1-46cb-857c-c1968df97b7e",
   "metadata": {},
   "outputs": [
    {
     "name": "stdout",
     "output_type": "stream",
     "text": [
      "tf.Tensor(\n",
      "[[-0.7790444  -1.5626675  -0.8583208 ]\n",
      " [-0.58128965 -0.12633725 -0.06265599]], shape=(2, 3), dtype=float32)\n"
     ]
    }
   ],
   "source": [
    "x = tf.random.normal(shape=(2, 3), mean=0, stddev=2)\n",
    "print(x)"
   ]
  },
  {
   "cell_type": "code",
   "execution_count": null,
   "id": "04d2cdf8-73ad-4f03-af8b-aa8ecf4da697",
   "metadata": {},
   "outputs": [],
   "source": []
  },
  {
   "cell_type": "markdown",
   "id": "028aea29-913d-4fa6-9796-4d8ebd008704",
   "metadata": {},
   "source": [
    "## 8. Create a `tensor` using uniform distribution with minimum value of 1 and maximum value of 2, and with a shape `2 x 2`."
   ]
  },
  {
   "cell_type": "code",
   "execution_count": 10,
   "id": "2379e853-b2be-47d2-9df0-5792f58f96a5",
   "metadata": {},
   "outputs": [
    {
     "name": "stdout",
     "output_type": "stream",
     "text": [
      "tf.Tensor(\n",
      "[[1.8396721 1.6513225]\n",
      " [1.475342  1.2907958]], shape=(2, 2), dtype=float32)\n"
     ]
    }
   ],
   "source": [
    "x = tf.random.uniform(shape=(2, 2), minval=1, maxval=2)\n",
    "print(x)"
   ]
  },
  {
   "cell_type": "code",
   "execution_count": null,
   "id": "f1630530-0d7e-4040-a73c-ec151289f032",
   "metadata": {},
   "outputs": [],
   "source": []
  },
  {
   "cell_type": "markdown",
   "id": "37cd01c6-c816-4045-b15b-43e5f0ff927e",
   "metadata": {},
   "source": [
    "## 9. Create a `tensor` of series of integers from 0 through 9 (both inclusive)."
   ]
  },
  {
   "cell_type": "code",
   "execution_count": 11,
   "id": "81bf32fc-23b5-48fc-84f0-d6c2797197a3",
   "metadata": {},
   "outputs": [
    {
     "name": "stdout",
     "output_type": "stream",
     "text": [
      "tf.Tensor([0 1 2 3 4 5 6 7 8 9], shape=(10,), dtype=int32)\n"
     ]
    }
   ],
   "source": [
    "x = tf.range(10)\n",
    "print(x)"
   ]
  },
  {
   "cell_type": "code",
   "execution_count": null,
   "id": "449ac8db-3c09-4c74-a2f3-3d82a14dcfd7",
   "metadata": {},
   "outputs": [],
   "source": []
  },
  {
   "cell_type": "markdown",
   "id": "c4b4dfaf-a5d6-4ce2-8647-4cc8177452f3",
   "metadata": {},
   "source": [
    "## 10. Create a `tensor` of series of integers from 0 through 9 with a step of 2."
   ]
  },
  {
   "cell_type": "code",
   "execution_count": 12,
   "id": "00a22005-11d7-462f-8d67-b0a9e114c1b4",
   "metadata": {},
   "outputs": [
    {
     "name": "stdout",
     "output_type": "stream",
     "text": [
      "tf.Tensor([0 2 4 6 8], shape=(5,), dtype=int32)\n"
     ]
    }
   ],
   "source": [
    "x = tf.range(start=0, limit=10, delta=2)\n",
    "print(x)"
   ]
  },
  {
   "cell_type": "code",
   "execution_count": null,
   "id": "1f9a808c-ad26-4d6f-bdd8-9f25a7fde010",
   "metadata": {},
   "outputs": [],
   "source": []
  },
  {
   "cell_type": "markdown",
   "id": "571e6426-5976-4e62-ae51-bf3df261df73",
   "metadata": {},
   "source": [
    "## 11. Convert the above `tensor` from `int32` to `float32`."
   ]
  },
  {
   "cell_type": "code",
   "execution_count": 13,
   "id": "1ce8ca0f-4815-425a-903b-5f755e646219",
   "metadata": {},
   "outputs": [
    {
     "name": "stdout",
     "output_type": "stream",
     "text": [
      "tf.Tensor([0. 2. 4. 6. 8.], shape=(5,), dtype=float32)\n"
     ]
    }
   ],
   "source": [
    "x = tf.cast(x, dtype='float32')\n",
    "print(x)"
   ]
  },
  {
   "cell_type": "code",
   "execution_count": null,
   "id": "112dcdb4-867e-4252-be7a-6820bf94e40f",
   "metadata": {},
   "outputs": [],
   "source": []
  },
  {
   "cell_type": "markdown",
   "id": "09f7c6fc-cb2a-4408-8522-f525e6e17e30",
   "metadata": {},
   "source": [
    "## 12. Perform element-wise addition on `[1, 2, 3]` and `[9, 8, 7]` and print the result."
   ]
  },
  {
   "cell_type": "code",
   "execution_count": 14,
   "id": "ef95cd88-ae10-4c10-8b56-ed530babe577",
   "metadata": {},
   "outputs": [
    {
     "name": "stdout",
     "output_type": "stream",
     "text": [
      "tf.Tensor([10 10 10], shape=(3,), dtype=int32)\n"
     ]
    }
   ],
   "source": [
    "x = tf.constant([1, 2, 3])\n",
    "y = tf.constant([9, 8, 7])\n",
    "z = x + y # short-hand for tf.add(x, y)\n",
    "print(z)"
   ]
  },
  {
   "cell_type": "code",
   "execution_count": null,
   "id": "dc8b18be-909e-42f9-8b24-264036a5ef56",
   "metadata": {},
   "outputs": [],
   "source": []
  },
  {
   "cell_type": "markdown",
   "id": "6612c25d-c2e2-4b0c-a686-9b65432bd24e",
   "metadata": {},
   "source": [
    "## 13. Perform element-wise subtraction on `[1, 2, 3]` and `[9, 8, 7]` and print the result."
   ]
  },
  {
   "cell_type": "code",
   "execution_count": 15,
   "id": "75ca4669-f1fc-4b53-9589-20c2e4c9d280",
   "metadata": {},
   "outputs": [
    {
     "name": "stdout",
     "output_type": "stream",
     "text": [
      "tf.Tensor([-8 -6 -4], shape=(3,), dtype=int32)\n"
     ]
    }
   ],
   "source": [
    "x = tf.constant([1, 2, 3])\n",
    "y = tf.constant([9, 8, 7])\n",
    "z = x - y # short-hand for tf.subtract(x, y)\n",
    "print(z)"
   ]
  },
  {
   "cell_type": "code",
   "execution_count": null,
   "id": "abd0df9a-39b6-4988-93ef-6a6e57d64f37",
   "metadata": {},
   "outputs": [],
   "source": []
  },
  {
   "cell_type": "markdown",
   "id": "0c57f744-1958-46a9-a763-d8e9dab50984",
   "metadata": {},
   "source": [
    "## 14. Perform element-wise multiplication on `[1, 2, 3]` and `[11, 22, 33]` and print the result."
   ]
  },
  {
   "cell_type": "code",
   "execution_count": 16,
   "id": "4124ac89-c61f-4cc1-8973-a25746c38a6e",
   "metadata": {},
   "outputs": [
    {
     "name": "stdout",
     "output_type": "stream",
     "text": [
      "tf.Tensor([11 44 99], shape=(3,), dtype=int32)\n"
     ]
    }
   ],
   "source": [
    "x = tf.constant([1, 2, 3])\n",
    "y = tf.constant([11, 22, 33])\n",
    "z = x * y # short-hand for tf.multiply(x, y)\n",
    "print(z)"
   ]
  },
  {
   "cell_type": "code",
   "execution_count": null,
   "id": "9b87c575-34c9-4081-bf4b-0f0ebb9fc2e5",
   "metadata": {},
   "outputs": [],
   "source": []
  },
  {
   "cell_type": "markdown",
   "id": "cbd599a8-175d-4a32-93a4-5800736edbe9",
   "metadata": {},
   "source": [
    "## 15. Perform element-wise division on `[10, 20, 30]` and `[1, 2, 3]` and print the result."
   ]
  },
  {
   "cell_type": "code",
   "execution_count": 17,
   "id": "6c7eed6e-6ebd-4428-b459-ee1ded526b69",
   "metadata": {},
   "outputs": [
    {
     "name": "stdout",
     "output_type": "stream",
     "text": [
      "tf.Tensor([10. 10. 10.], shape=(3,), dtype=float64)\n"
     ]
    }
   ],
   "source": [
    "x = tf.constant([10, 20, 30])\n",
    "y = tf.constant([1, 2, 3])\n",
    "z = x / y # short-hand for tf.divide(x, y)\n",
    "print(z)"
   ]
  },
  {
   "cell_type": "code",
   "execution_count": null,
   "id": "9d77409b-3c30-49fa-8437-d9ed941dbc36",
   "metadata": {},
   "outputs": [],
   "source": []
  },
  {
   "cell_type": "markdown",
   "id": "5c1dfac2-3bcc-45e1-9186-f198900f40b8",
   "metadata": {},
   "source": [
    "## 16. Perform dot-product on `[1, 2, 3]` and `[4, 5, 6]` and print the result."
   ]
  },
  {
   "cell_type": "code",
   "execution_count": 18,
   "id": "349a733a-a4fb-4f04-b53f-c20646f2f89a",
   "metadata": {},
   "outputs": [
    {
     "name": "stdout",
     "output_type": "stream",
     "text": [
      "tf.Tensor(32, shape=(), dtype=int32)\n"
     ]
    }
   ],
   "source": [
    "x = tf.constant([1, 2, 3])\n",
    "y = tf.constant([4, 5, 6])\n",
    "z = tf.tensordot(x, y, axes=1)\n",
    "print(z)"
   ]
  },
  {
   "cell_type": "code",
   "execution_count": null,
   "id": "15a04a81-4130-4266-9524-04ad62ab40c0",
   "metadata": {},
   "outputs": [],
   "source": []
  },
  {
   "cell_type": "markdown",
   "id": "66eaacff-82b9-4ac8-95e2-0d6017de92ef",
   "metadata": {},
   "source": [
    "## 17. Create a `2 x 2 tensor` and raise each element to the power of 3."
   ]
  },
  {
   "cell_type": "code",
   "execution_count": 19,
   "id": "05ca09ed-ddd8-4a27-81a2-8dd8239bc30e",
   "metadata": {},
   "outputs": [
    {
     "name": "stdout",
     "output_type": "stream",
     "text": [
      "tf.Tensor(\n",
      "[[ 1  8]\n",
      " [27 64]], shape=(2, 2), dtype=int32)\n"
     ]
    }
   ],
   "source": [
    "x = tf.constant([[1, 2], [3, 4]])\n",
    "z = x ** 3  # equivalent to tf.pow(x, 3)\n",
    "print(z)"
   ]
  },
  {
   "cell_type": "code",
   "execution_count": null,
   "id": "16d14163-b27c-4ee0-b132-183f8e6d968f",
   "metadata": {},
   "outputs": [],
   "source": []
  },
  {
   "cell_type": "markdown",
   "id": "f92a52f4-241f-4f25-bfba-e7b100a5fdd4",
   "metadata": {},
   "source": [
    "## 18. Raise one `2 x 2 tensor` to the power of another `2 x 2 tensor` (element-wise)."
   ]
  },
  {
   "cell_type": "code",
   "execution_count": 20,
   "id": "296121e2-0e7b-4769-ac39-621852caaac0",
   "metadata": {},
   "outputs": [
    {
     "name": "stdout",
     "output_type": "stream",
     "text": [
      "tf.Tensor(\n",
      "[[ 1  8]\n",
      " [ 9 64]], shape=(2, 2), dtype=int32)\n"
     ]
    }
   ],
   "source": [
    "x = tf.constant([[1, 2], [3, 4]])\n",
    "y = tf.constant([[2, 3], [2, 3]])\n",
    "z = tf.pow(x, y)\n",
    "print(z)"
   ]
  },
  {
   "cell_type": "code",
   "execution_count": null,
   "id": "816e2367-2feb-4eab-a2ac-4d13f879ee98",
   "metadata": {},
   "outputs": [],
   "source": []
  },
  {
   "cell_type": "markdown",
   "id": "b8d10cfa-84df-4679-8bfd-d4ca74ccc872",
   "metadata": {},
   "source": [
    "## 19. Perform a matrix multiplication between a `2 x 3 tensor` and `3 x 2 tensor`."
   ]
  },
  {
   "cell_type": "code",
   "execution_count": 21,
   "id": "025e751d-8f38-4519-b535-cd6c18fda350",
   "metadata": {},
   "outputs": [
    {
     "name": "stdout",
     "output_type": "stream",
     "text": [
      "tf.Tensor(\n",
      "[[1 2 3]\n",
      " [4 5 6]], shape=(2, 3), dtype=int32)\n",
      "tf.Tensor(\n",
      "[[1 2]\n",
      " [3 4]\n",
      " [5 6]], shape=(3, 2), dtype=int32)\n",
      "tf.Tensor(\n",
      "[[22 28]\n",
      " [49 64]], shape=(2, 2), dtype=int32)\n"
     ]
    }
   ],
   "source": [
    "x = tf.constant([[1, 2, 3], [4, 5, 6]], dtype='int32')\n",
    "y = tf.constant([[1, 2], [3, 4], [5, 6]], dtype='int32')\n",
    "\n",
    "print(x)\n",
    "print(y)\n",
    "\n",
    "z = x @ y # same as tf.matmul(x, y)\n",
    "print(z)"
   ]
  },
  {
   "cell_type": "code",
   "execution_count": null,
   "id": "0c765240-0202-48df-b18f-7e173d913a12",
   "metadata": {},
   "outputs": [],
   "source": []
  }
 ],
 "metadata": {
  "kernelspec": {
   "display_name": "Python 3 (ipykernel)",
   "language": "python",
   "name": "python3"
  },
  "language_info": {
   "codemirror_mode": {
    "name": "ipython",
    "version": 3
   },
   "file_extension": ".py",
   "mimetype": "text/x-python",
   "name": "python",
   "nbconvert_exporter": "python",
   "pygments_lexer": "ipython3",
   "version": "3.12.3"
  }
 },
 "nbformat": 4,
 "nbformat_minor": 5
}
